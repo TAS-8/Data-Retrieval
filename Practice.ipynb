{
 "cells": [
  {
   "cell_type": "code",
   "execution_count": 9,
   "metadata": {},
   "outputs": [],
   "source": [
    "#Libraries\n",
    "import pandas as pd\n",
    "import numpy as np\n",
    "import json"
   ]
  },
  {
   "cell_type": "markdown",
   "metadata": {},
   "source": [
    "Pandas library provides access to Dataframes, a high level data structure which makes it easy to work with datasets. File types: csv, xslx\n",
    "Numpy makes use of arrays and matrices to work with simpler file formats such as txt files.\n",
    "The json module is a built-in Python library used to work with JSON (JavaScript Object Notation) data. JSON is a widely used format for data exchange, especially in APIs and web services."
   ]
  },
  {
   "cell_type": "code",
   "execution_count": null,
   "metadata": {},
   "outputs": [],
   "source": [
    "#CSV File\n",
    "#URL of the raw CSV file on GitHub\n",
    "url = \"https://raw.githubusercontent.com/KeithGalli/pandas/refs/heads/master/pokemon_data.csv\"\n",
    "\n",
    "#Load the CSV file directly into a DataFrame\n",
    "df = pd.read_csv(url)\n",
    "print(df.head())"
   ]
  },
  {
   "cell_type": "code",
   "execution_count": null,
   "metadata": {},
   "outputs": [],
   "source": [
    "#Excel File\n",
    "#Path to the local Excel file\n",
    "file_path = 'Data/pokemon_data.xlsx'\n",
    "\n",
    "#Load the Excel file directly into a DataFrame\n",
    "df = pd.read_excel(file_path)\n",
    "print(df.head())\n"
   ]
  },
  {
   "cell_type": "code",
   "execution_count": null,
   "metadata": {},
   "outputs": [],
   "source": [
    "#Text File\n",
    "# Path to the local text file\n",
    "file_path = 'Data/pokemon_data.txt'  # Update with your file path\n",
    "\n",
    "# Open and read the text file\n",
    "with open(file_path, 'r') as file:\n",
    "    content = file.read()  # Read the entire content of the file\n",
    "\n",
    "# Print the content\n",
    "print(content)"
   ]
  },
  {
   "cell_type": "code",
   "execution_count": null,
   "metadata": {},
   "outputs": [],
   "source": [
    "#json File\n",
    "# Path to the local JSON file\n",
    "file_path = 'Data/anscombe.json'\n",
    "\n",
    "# Open and read the JSON file\n",
    "with open(file_path, 'r') as file:\n",
    "    data = json.load(file)  # Load the JSON data into a Python object\n",
    "\n",
    "# Print the data (you might want to print only a part of it)\n",
    "print(data)\n"
   ]
  }
 ],
 "metadata": {
  "kernelspec": {
   "display_name": "Python 3",
   "language": "python",
   "name": "python3"
  },
  "language_info": {
   "codemirror_mode": {
    "name": "ipython",
    "version": 3
   },
   "file_extension": ".py",
   "mimetype": "text/x-python",
   "name": "python",
   "nbconvert_exporter": "python",
   "pygments_lexer": "ipython3",
   "version": "3.13.0"
  }
 },
 "nbformat": 4,
 "nbformat_minor": 2
}
