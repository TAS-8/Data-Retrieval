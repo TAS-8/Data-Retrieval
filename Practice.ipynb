{
 "cells": [
  {
   "cell_type": "code",
   "execution_count": 9,
   "metadata": {},
   "outputs": [],
   "source": [
    "#Libraries\n",
    "import pandas as pd\n",
    "import numpy as np\n",
    "import json"
   ]
  },
  {
   "cell_type": "markdown",
   "metadata": {},
   "source": [
    "Pandas library provides access to Dataframes, a high level data structure which makes it easy to work with datasets. File types: csv, xslx\n",
    "\n",
    "Numpy makes use of arrays and matrices to work with simpler file formats such as txt files.\n",
    "\n",
    "The json module is a built-in Python library used to work with JSON (JavaScript Object Notation) data. JSON files get loaded into dictionaries which work with key-value pairs."
   ]
  },
  {
   "cell_type": "code",
   "execution_count": null,
   "metadata": {},
   "outputs": [],
   "source": [
    "#CSV File\n",
    "#URL of the raw CSV file on GitHub\n",
    "url = \"https://raw.githubusercontent.com/KeithGalli/pandas/refs/heads/master/pokemon_data.csv\"\n",
    "\n",
    "#Load the CSV file directly into a DataFrame\n",
    "df = pd.read_csv(url)\n",
    "print(df.head())"
   ]
  },
  {
   "cell_type": "code",
   "execution_count": null,
   "metadata": {},
   "outputs": [],
   "source": [
    "#Excel File\n",
    "#Path to the local Excel file\n",
    "file_path = 'Data/pokemon_data.xlsx'\n",
    "\n",
    "#Load the Excel file directly into a DataFrame\n",
    "df = pd.read_excel(file_path)\n",
    "print(df.head())\n"
   ]
  },
  {
   "cell_type": "code",
   "execution_count": null,
   "metadata": {},
   "outputs": [],
   "source": [
    "#Text File\n",
    "# Path to the local text file\n",
    "file_path = 'Data/pokemon_data.txt'  # Update with your file path\n",
    "\n",
    "# Open and read the text file\n",
    "with open(file_path, 'r') as file:\n",
    "    content = file.read()  # Read the entire content of the file\n",
    "\n",
    "# Print the content\n",
    "print(content)"
   ]
  },
  {
   "cell_type": "code",
   "execution_count": null,
   "metadata": {},
   "outputs": [],
   "source": [
    "#json File\n",
    "# Path to the local JSON file\n",
    "file_path = 'Data/anscombe.json'\n",
    "\n",
    "# Open and read the JSON file\n",
    "with open(file_path, 'r') as file:\n",
    "    data = json.load(file)  # Load the JSON data into a Python object\n",
    "\n",
    "# Print the data (you might want to print only a part of it)\n",
    "print(data)\n"
   ]
  },
  {
   "cell_type": "code",
   "execution_count": null,
   "metadata": {},
   "outputs": [],
   "source": [
    "#Database Connection\n",
    "import mysql.connector\n",
    "from mysql.connector import Error\n",
    "\n",
    "def connect_to_sakila():\n",
    "    try:\n",
    "        # Prompt the user for MySQL username and password\n",
    "        username = input(\"Enter your MySQL username: \")\n",
    "        password = input(\"Enter your MySQL password: \")\n",
    "        \n",
    "        # Establish a connection to the MySQL database\n",
    "        connection = mysql.connector.connect(\n",
    "            host='localhost',          # MySQL server address (use 'localhost' for local server)\n",
    "            database='sakila',         # Connect to the Sakila database\n",
    "            user=username,             # MySQL username input by the user\n",
    "            password=password          # MySQL password input by the user\n",
    "        )\n",
    "\n",
    "        if connection.is_connected():\n",
    "            print(\"Successfully connected to the Sakila database\")\n",
    "\n",
    "            # Create a cursor to execute SQL queries\n",
    "            cursor = connection.cursor()\n",
    "\n",
    "            # Execute a simple query to retrieve data from the 'actor' table\n",
    "            cursor.execute(\"SELECT * FROM actor LIMIT 5;\")\n",
    "            result = cursor.fetchall()\n",
    "\n",
    "            # Display the first few tuples from the 'actor' table\n",
    "            print(\"\\nDisplaying a few rows from the 'actor' table:\")\n",
    "            for row in result:\n",
    "                print(row)\n",
    "\n",
    "        return connection\n",
    "\n",
    "    except Error as e:\n",
    "        print(f\"Error: '{e}' occurred\")\n",
    "        return None\n",
    "\n",
    "    finally:\n",
    "        if 'connection' in locals() and connection.is_connected():\n",
    "            cursor.close()\n",
    "            connection.close()\n",
    "            print(\"MySQL connection is closed\")\n",
    "\n",
    "# Call the function to connect and display data\n",
    "connect_to_sakila()\n"
   ]
  },
  {
   "cell_type": "code",
   "execution_count": null,
   "metadata": {},
   "outputs": [],
   "source": [
    "#API COnnection\n",
    "import requests     #allows us to make HTTP requests\n",
    "\n",
    "def fetch_api_data():\n",
    "    try:\n",
    "        # The URL of the test API (JSONPlaceholder)\n",
    "        url = 'https://jsonplaceholder.typicode.com/posts'\n",
    "        \n",
    "        # Make a GET request to the API\n",
    "        response = requests.get(url)\n",
    "        \n",
    "        # Check if the request was successful (status code 200)\n",
    "        if response.status_code == 200:\n",
    "            print(\"Successfully connected to the API!\")\n",
    "            \n",
    "            # Parse the JSON data returned by the API\n",
    "            data = response.json()\n",
    "            \n",
    "            # Display a few records (first 5 entries)\n",
    "            print(\"\\nDisplaying the first 5 records from the API response:\")\n",
    "            for entry in data[:5]:\n",
    "                print(f\"ID: {entry['id']}, Title: {entry['title']}\")\n",
    "        \n",
    "        else:\n",
    "            print(f\"Failed to retrieve data. HTTP Status code: {response.status_code}\")\n",
    "    \n",
    "    except Exception as e:\n",
    "        print(f\"An error occurred: {e}\")\n",
    "\n",
    "# Call the function to fetch data from the API\n",
    "fetch_api_data()"
   ]
  }
 ],
 "metadata": {
  "kernelspec": {
   "display_name": "Python 3",
   "language": "python",
   "name": "python3"
  },
  "language_info": {
   "codemirror_mode": {
    "name": "ipython",
    "version": 3
   },
   "file_extension": ".py",
   "mimetype": "text/x-python",
   "name": "python",
   "nbconvert_exporter": "python",
   "pygments_lexer": "ipython3",
   "version": "3.13.0"
  }
 },
 "nbformat": 4,
 "nbformat_minor": 2
}
